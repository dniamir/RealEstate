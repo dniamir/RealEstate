{
 "cells": [
  {
   "cell_type": "code",
   "execution_count": null,
   "metadata": {
    "collapsed": true
   },
   "outputs": [],
   "source": [
    "## Functions"
   ]
  },
  {
   "cell_type": "code",
   "execution_count": null,
   "metadata": {
    "collapsed": true
   },
   "outputs": [],
   "source": [
    "def Colours(This_Colour, Number_Of_Colours):\n",
    "    \n",
    "    ## Case for only 2 colours\n",
    "    if(Number_Of_Colours == 2):\n",
    "        Number_Of_Colours = 3\n",
    "        if(This_Colour == 2):\n",
    "            This_Colour = 3\n",
    "    \n",
    "    Interval2 = float(Number_Of_Colours)/float(6)\n",
    "    Slope = float(1) / Interval2\n",
    "    \n",
    "    if(This_Colour == 0):\n",
    "        R = 0\n",
    "        G = 0\n",
    "        B = 0\n",
    "    elif(This_Colour <= 1*Interval2 + 1):\n",
    "        R = 1\n",
    "        G = Slope*(This_Colour - (0*Interval2 + 1))\n",
    "        B = 0\n",
    "        \n",
    "    elif(This_Colour <= 2*Interval2 + 1):\n",
    "        R = 1 - Slope*(This_Colour - (1*Interval2 + 1))\n",
    "        G = 1\n",
    "        B = 0\n",
    "        \n",
    "    elif(This_Colour <= 3*Interval2 + 1):\n",
    "        R = 0\n",
    "        G = 1\n",
    "        B = Slope*(This_Colour - (2*Interval2 + 1))\n",
    "        \n",
    "    elif(This_Colour <= 4*Interval2 + 1):\n",
    "        R = 0\n",
    "        G = 1 - Slope*(This_Colour - (3*Interval2 + 1))\n",
    "        B = 1\n",
    "        \n",
    "    elif(This_Colour <= 5*Interval2 + 1):\n",
    "        R = Slope*(This_Colour - (4*Interval2 + 1))\n",
    "        G = 0\n",
    "        B = 1\n",
    "        \n",
    "    elif(This_Colour <= 6*Interval2 + 1):\n",
    "        R = 1\n",
    "        G = 0\n",
    "        B = 1 - Slope*(This_Colour - (5*Interval2 + 1))\n",
    "\n",
    "    if(R < 0):\n",
    "        R = 0\n",
    "    elif(R > 1):\n",
    "        R = 1\n",
    "    \n",
    "    if(G < 0):\n",
    "        G = 0\n",
    "    elif(G > 1):\n",
    "        G = 1\n",
    "        \n",
    "    if(B < 0):\n",
    "        B = 0\n",
    "    elif(B > 1):\n",
    "        B = 1\n",
    "    \n",
    "    return [R*255, G*255, B*255]\n"
   ]
  }
 ],
 "metadata": {
  "kernelspec": {
   "display_name": "Python 3",
   "language": "python",
   "name": "python3"
  },
  "language_info": {
   "codemirror_mode": {
    "name": "ipython",
    "version": 3
   },
   "file_extension": ".py",
   "mimetype": "text/x-python",
   "name": "python",
   "nbconvert_exporter": "python",
   "pygments_lexer": "ipython3",
   "version": "3.6.3"
  }
 },
 "nbformat": 4,
 "nbformat_minor": 2
}
